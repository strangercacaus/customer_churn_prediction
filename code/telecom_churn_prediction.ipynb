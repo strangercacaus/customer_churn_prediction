{
 "cells": [
  {
   "cell_type": "code",
   "execution_count": 433,
   "metadata": {},
   "outputs": [],
   "source": [
    "import pandas as pd\n",
    "import numpy as np\n",
    "import matplotlib.pyplot as plt\n",
    "import seaborn as sns\n",
    "from sklearn.model_selection import train_test_split\n",
    "from sklearn.preprocessing import StandardScaler, LabelEncoder\n",
    "from sklearn.ensemble import RandomForestClassifier\n",
    "from sklearn.metrics import classification_report, confusion_matrix, accuracy_score"
   ]
  },
  {
   "cell_type": "code",
   "execution_count": 434,
   "metadata": {},
   "outputs": [],
   "source": [
    "df = pd.read_csv('../data/telecom_dataset.csv')"
   ]
  },
  {
   "cell_type": "markdown",
   "metadata": {},
   "source": [
    "# Conteúdo do Dataset"
   ]
  },
  {
   "cell_type": "code",
   "execution_count": 435,
   "metadata": {},
   "outputs": [
    {
     "data": {
      "text/html": [
       "<div>\n",
       "<style scoped>\n",
       "    .dataframe tbody tr th:only-of-type {\n",
       "        vertical-align: middle;\n",
       "    }\n",
       "\n",
       "    .dataframe tbody tr th {\n",
       "        vertical-align: top;\n",
       "    }\n",
       "\n",
       "    .dataframe thead th {\n",
       "        text-align: right;\n",
       "    }\n",
       "</style>\n",
       "<table border=\"1\" class=\"dataframe\">\n",
       "  <thead>\n",
       "    <tr style=\"text-align: right;\">\n",
       "      <th></th>\n",
       "      <th>customerID</th>\n",
       "      <th>Gender</th>\n",
       "      <th>SeniorCitizen</th>\n",
       "      <th>Partner</th>\n",
       "      <th>Dependents</th>\n",
       "      <th>Tenure</th>\n",
       "      <th>PhoneService</th>\n",
       "      <th>MultipleLines</th>\n",
       "      <th>InternetService</th>\n",
       "      <th>OnlineSecurity</th>\n",
       "      <th>...</th>\n",
       "      <th>DeviceProtection</th>\n",
       "      <th>TechSupport</th>\n",
       "      <th>StreamingTV</th>\n",
       "      <th>StreamingMovies</th>\n",
       "      <th>Contract</th>\n",
       "      <th>PaperlessBilling</th>\n",
       "      <th>PaymentMethod</th>\n",
       "      <th>MonthlyCharges</th>\n",
       "      <th>TotalCharges</th>\n",
       "      <th>Churn</th>\n",
       "    </tr>\n",
       "  </thead>\n",
       "  <tbody>\n",
       "    <tr>\n",
       "      <th>0</th>\n",
       "      <td>7590-VHVEG</td>\n",
       "      <td>Female</td>\n",
       "      <td>0</td>\n",
       "      <td>Yes</td>\n",
       "      <td>No</td>\n",
       "      <td>1</td>\n",
       "      <td>No</td>\n",
       "      <td>No</td>\n",
       "      <td>DSL</td>\n",
       "      <td>No</td>\n",
       "      <td>...</td>\n",
       "      <td>No</td>\n",
       "      <td>No</td>\n",
       "      <td>No</td>\n",
       "      <td>No</td>\n",
       "      <td>Monthly</td>\n",
       "      <td>Yes</td>\n",
       "      <td>Manual</td>\n",
       "      <td>29.85</td>\n",
       "      <td>29.85</td>\n",
       "      <td>No</td>\n",
       "    </tr>\n",
       "    <tr>\n",
       "      <th>1</th>\n",
       "      <td>5575-GNVDE</td>\n",
       "      <td>Male</td>\n",
       "      <td>0</td>\n",
       "      <td>No</td>\n",
       "      <td>No</td>\n",
       "      <td>34</td>\n",
       "      <td>Yes</td>\n",
       "      <td>No</td>\n",
       "      <td>DSL</td>\n",
       "      <td>Yes</td>\n",
       "      <td>...</td>\n",
       "      <td>Yes</td>\n",
       "      <td>No</td>\n",
       "      <td>No</td>\n",
       "      <td>No</td>\n",
       "      <td>One year</td>\n",
       "      <td>No</td>\n",
       "      <td>Manual</td>\n",
       "      <td>56.95</td>\n",
       "      <td>1889.5</td>\n",
       "      <td>No</td>\n",
       "    </tr>\n",
       "    <tr>\n",
       "      <th>2</th>\n",
       "      <td>3668-QPYBK</td>\n",
       "      <td>Male</td>\n",
       "      <td>0</td>\n",
       "      <td>No</td>\n",
       "      <td>No</td>\n",
       "      <td>2</td>\n",
       "      <td>Yes</td>\n",
       "      <td>No</td>\n",
       "      <td>DSL</td>\n",
       "      <td>Yes</td>\n",
       "      <td>...</td>\n",
       "      <td>No</td>\n",
       "      <td>No</td>\n",
       "      <td>No</td>\n",
       "      <td>No</td>\n",
       "      <td>Monthly</td>\n",
       "      <td>Yes</td>\n",
       "      <td>Manual</td>\n",
       "      <td>53.85</td>\n",
       "      <td>108.15</td>\n",
       "      <td>Yes</td>\n",
       "    </tr>\n",
       "    <tr>\n",
       "      <th>3</th>\n",
       "      <td>7795-CFOCW</td>\n",
       "      <td>Male</td>\n",
       "      <td>0</td>\n",
       "      <td>No</td>\n",
       "      <td>No</td>\n",
       "      <td>45</td>\n",
       "      <td>No</td>\n",
       "      <td>No</td>\n",
       "      <td>DSL</td>\n",
       "      <td>Yes</td>\n",
       "      <td>...</td>\n",
       "      <td>Yes</td>\n",
       "      <td>Yes</td>\n",
       "      <td>No</td>\n",
       "      <td>No</td>\n",
       "      <td>One year</td>\n",
       "      <td>No</td>\n",
       "      <td>Bank transfer (automatic)</td>\n",
       "      <td>42.30</td>\n",
       "      <td>1840.75</td>\n",
       "      <td>No</td>\n",
       "    </tr>\n",
       "    <tr>\n",
       "      <th>4</th>\n",
       "      <td>9237-HQITU</td>\n",
       "      <td>Female</td>\n",
       "      <td>0</td>\n",
       "      <td>No</td>\n",
       "      <td>No</td>\n",
       "      <td>2</td>\n",
       "      <td>Yes</td>\n",
       "      <td>No</td>\n",
       "      <td>Fiber optic</td>\n",
       "      <td>No</td>\n",
       "      <td>...</td>\n",
       "      <td>No</td>\n",
       "      <td>No</td>\n",
       "      <td>No</td>\n",
       "      <td>No</td>\n",
       "      <td>Monthly</td>\n",
       "      <td>Yes</td>\n",
       "      <td>Manual</td>\n",
       "      <td>70.70</td>\n",
       "      <td>151.65</td>\n",
       "      <td>Yes</td>\n",
       "    </tr>\n",
       "  </tbody>\n",
       "</table>\n",
       "<p>5 rows × 21 columns</p>\n",
       "</div>"
      ],
      "text/plain": [
       "   customerID  Gender  SeniorCitizen Partner Dependents  Tenure PhoneService  \\\n",
       "0  7590-VHVEG  Female              0     Yes         No       1           No   \n",
       "1  5575-GNVDE    Male              0      No         No      34          Yes   \n",
       "2  3668-QPYBK    Male              0      No         No       2          Yes   \n",
       "3  7795-CFOCW    Male              0      No         No      45           No   \n",
       "4  9237-HQITU  Female              0      No         No       2          Yes   \n",
       "\n",
       "  MultipleLines InternetService OnlineSecurity  ... DeviceProtection  \\\n",
       "0            No             DSL             No  ...               No   \n",
       "1            No             DSL            Yes  ...              Yes   \n",
       "2            No             DSL            Yes  ...               No   \n",
       "3            No             DSL            Yes  ...              Yes   \n",
       "4            No     Fiber optic             No  ...               No   \n",
       "\n",
       "  TechSupport StreamingTV StreamingMovies  Contract PaperlessBilling  \\\n",
       "0          No          No              No   Monthly              Yes   \n",
       "1          No          No              No  One year               No   \n",
       "2          No          No              No   Monthly              Yes   \n",
       "3         Yes          No              No  One year               No   \n",
       "4          No          No              No   Monthly              Yes   \n",
       "\n",
       "               PaymentMethod MonthlyCharges  TotalCharges Churn  \n",
       "0                     Manual          29.85         29.85    No  \n",
       "1                     Manual          56.95        1889.5    No  \n",
       "2                     Manual          53.85        108.15   Yes  \n",
       "3  Bank transfer (automatic)          42.30       1840.75    No  \n",
       "4                     Manual          70.70        151.65   Yes  \n",
       "\n",
       "[5 rows x 21 columns]"
      ]
     },
     "execution_count": 435,
     "metadata": {},
     "output_type": "execute_result"
    }
   ],
   "source": [
    "df.head(5)"
   ]
  },
  {
   "cell_type": "code",
   "execution_count": 436,
   "metadata": {},
   "outputs": [
    {
     "name": "stdout",
     "output_type": "stream",
     "text": [
      "<class 'pandas.core.frame.DataFrame'>\n",
      "RangeIndex: 7043 entries, 0 to 7042\n",
      "Data columns (total 21 columns):\n",
      " #   Column            Non-Null Count  Dtype  \n",
      "---  ------            --------------  -----  \n",
      " 0   customerID        7043 non-null   object \n",
      " 1   Gender            7043 non-null   object \n",
      " 2   SeniorCitizen     7043 non-null   int64  \n",
      " 3   Partner           7043 non-null   object \n",
      " 4   Dependents        7043 non-null   object \n",
      " 5   Tenure            7043 non-null   int64  \n",
      " 6   PhoneService      7043 non-null   object \n",
      " 7   MultipleLines     7043 non-null   object \n",
      " 8   InternetService   7043 non-null   object \n",
      " 9   OnlineSecurity    7043 non-null   object \n",
      " 10  OnlineBackup      7043 non-null   object \n",
      " 11  DeviceProtection  7043 non-null   object \n",
      " 12  TechSupport       7043 non-null   object \n",
      " 13  StreamingTV       7043 non-null   object \n",
      " 14  StreamingMovies   7043 non-null   object \n",
      " 15  Contract          7043 non-null   object \n",
      " 16  PaperlessBilling  7043 non-null   object \n",
      " 17  PaymentMethod     7043 non-null   object \n",
      " 18  MonthlyCharges    7043 non-null   float64\n",
      " 19  TotalCharges      7043 non-null   object \n",
      " 20  Churn             7043 non-null   object \n",
      "dtypes: float64(1), int64(2), object(18)\n",
      "memory usage: 1.1+ MB\n"
     ]
    }
   ],
   "source": [
    "df.info()"
   ]
  },
  {
   "cell_type": "code",
   "execution_count": 437,
   "metadata": {},
   "outputs": [
    {
     "data": {
      "text/plain": [
       "customerID          0\n",
       "Gender              0\n",
       "SeniorCitizen       0\n",
       "Partner             0\n",
       "Dependents          0\n",
       "Tenure              0\n",
       "PhoneService        0\n",
       "MultipleLines       0\n",
       "InternetService     0\n",
       "OnlineSecurity      0\n",
       "OnlineBackup        0\n",
       "DeviceProtection    0\n",
       "TechSupport         0\n",
       "StreamingTV         0\n",
       "StreamingMovies     0\n",
       "Contract            0\n",
       "PaperlessBilling    0\n",
       "PaymentMethod       0\n",
       "MonthlyCharges      0\n",
       "TotalCharges        0\n",
       "Churn               0\n",
       "dtype: int64"
      ]
     },
     "execution_count": 437,
     "metadata": {},
     "output_type": "execute_result"
    }
   ],
   "source": [
    "df.isnull().sum()"
   ]
  },
  {
   "cell_type": "code",
   "execution_count": 438,
   "metadata": {},
   "outputs": [
    {
     "data": {
      "text/plain": [
       "np.int64(0)"
      ]
     },
     "execution_count": 438,
     "metadata": {},
     "output_type": "execute_result"
    }
   ],
   "source": [
    "df.duplicated().sum()"
   ]
  },
  {
   "cell_type": "markdown",
   "metadata": {},
   "source": [
    "# Limpeza de Dados"
   ]
  },
  {
   "cell_type": "code",
   "execution_count": 439,
   "metadata": {},
   "outputs": [],
   "source": [
    "df = df[df['TotalCharges'].str.strip() != '']\n",
    "df['TotalCharges'] = df['TotalCharges'].astype(float)"
   ]
  },
  {
   "cell_type": "markdown",
   "metadata": {},
   "source": [
    "Não existem linhas duplicadas ou nulas, prosseguindo para o tratamento das variáveis categóricas"
   ]
  },
  {
   "cell_type": "markdown",
   "metadata": {},
   "source": [
    "# Codificação de Marcadores"
   ]
  },
  {
   "cell_type": "code",
   "execution_count": 440,
   "metadata": {},
   "outputs": [],
   "source": [
    "label_encoder = LabelEncoder()\n",
    "df['Gender'] = label_encoder.fit_transform(df['Gender'])\n",
    "df['Partner'] = label_encoder.fit_transform(df['Partner'])\n",
    "df['Dependents'] = label_encoder.fit_transform(df['Dependents'])\n",
    "df['PhoneService'] = label_encoder.fit_transform(df['PhoneService'])\n",
    "df['MultipleLines'] = label_encoder.fit_transform(df['MultipleLines'])\n",
    "df = pd.get_dummies(df, columns=['InternetService'],drop_first=True)\n",
    "df['OnlineSecurity'] = label_encoder.fit_transform(df['OnlineSecurity'])\n",
    "df['OnlineBackup'] = label_encoder.fit_transform(df['OnlineBackup'])\n",
    "df['DeviceProtection'] = label_encoder.fit_transform(df['DeviceProtection'])\n",
    "df['TechSupport'] = label_encoder.fit_transform(df['TechSupport'])\n",
    "df['StreamingTV'] = label_encoder.fit_transform(df['StreamingTV'])\n",
    "df['StreamingMovies'] = label_encoder.fit_transform(df['StreamingMovies'])\n",
    "df = pd.get_dummies(df, columns=['Contract'],drop_first=True)\n",
    "df['PaperlessBilling'] = label_encoder.fit_transform(df['PaperlessBilling'])\n",
    "df = pd.get_dummies(df, columns=['PaymentMethod'],drop_first=True)\n",
    "df['Churn'] = label_encoder.fit_transform(df['Churn'])"
   ]
  },
  {
   "cell_type": "markdown",
   "metadata": {},
   "source": [
    "## Dataframe Resultante"
   ]
  },
  {
   "cell_type": "code",
   "execution_count": 441,
   "metadata": {},
   "outputs": [
    {
     "data": {
      "text/html": [
       "<div>\n",
       "<style scoped>\n",
       "    .dataframe tbody tr th:only-of-type {\n",
       "        vertical-align: middle;\n",
       "    }\n",
       "\n",
       "    .dataframe tbody tr th {\n",
       "        vertical-align: top;\n",
       "    }\n",
       "\n",
       "    .dataframe thead th {\n",
       "        text-align: right;\n",
       "    }\n",
       "</style>\n",
       "<table border=\"1\" class=\"dataframe\">\n",
       "  <thead>\n",
       "    <tr style=\"text-align: right;\">\n",
       "      <th></th>\n",
       "      <th>customerID</th>\n",
       "      <th>Gender</th>\n",
       "      <th>SeniorCitizen</th>\n",
       "      <th>Partner</th>\n",
       "      <th>Dependents</th>\n",
       "      <th>Tenure</th>\n",
       "      <th>PhoneService</th>\n",
       "      <th>MultipleLines</th>\n",
       "      <th>OnlineSecurity</th>\n",
       "      <th>OnlineBackup</th>\n",
       "      <th>...</th>\n",
       "      <th>PaperlessBilling</th>\n",
       "      <th>MonthlyCharges</th>\n",
       "      <th>TotalCharges</th>\n",
       "      <th>Churn</th>\n",
       "      <th>InternetService_Fiber optic</th>\n",
       "      <th>InternetService_No</th>\n",
       "      <th>Contract_One year</th>\n",
       "      <th>Contract_Two year</th>\n",
       "      <th>PaymentMethod_Credit card (automatic)</th>\n",
       "      <th>PaymentMethod_Manual</th>\n",
       "    </tr>\n",
       "  </thead>\n",
       "  <tbody>\n",
       "    <tr>\n",
       "      <th>0</th>\n",
       "      <td>7590-VHVEG</td>\n",
       "      <td>0</td>\n",
       "      <td>0</td>\n",
       "      <td>1</td>\n",
       "      <td>0</td>\n",
       "      <td>1</td>\n",
       "      <td>0</td>\n",
       "      <td>0</td>\n",
       "      <td>0</td>\n",
       "      <td>1</td>\n",
       "      <td>...</td>\n",
       "      <td>1</td>\n",
       "      <td>29.85</td>\n",
       "      <td>29.85</td>\n",
       "      <td>0</td>\n",
       "      <td>False</td>\n",
       "      <td>False</td>\n",
       "      <td>False</td>\n",
       "      <td>False</td>\n",
       "      <td>False</td>\n",
       "      <td>True</td>\n",
       "    </tr>\n",
       "    <tr>\n",
       "      <th>1</th>\n",
       "      <td>5575-GNVDE</td>\n",
       "      <td>1</td>\n",
       "      <td>0</td>\n",
       "      <td>0</td>\n",
       "      <td>0</td>\n",
       "      <td>34</td>\n",
       "      <td>1</td>\n",
       "      <td>0</td>\n",
       "      <td>1</td>\n",
       "      <td>0</td>\n",
       "      <td>...</td>\n",
       "      <td>0</td>\n",
       "      <td>56.95</td>\n",
       "      <td>1889.50</td>\n",
       "      <td>0</td>\n",
       "      <td>False</td>\n",
       "      <td>False</td>\n",
       "      <td>True</td>\n",
       "      <td>False</td>\n",
       "      <td>False</td>\n",
       "      <td>True</td>\n",
       "    </tr>\n",
       "    <tr>\n",
       "      <th>2</th>\n",
       "      <td>3668-QPYBK</td>\n",
       "      <td>1</td>\n",
       "      <td>0</td>\n",
       "      <td>0</td>\n",
       "      <td>0</td>\n",
       "      <td>2</td>\n",
       "      <td>1</td>\n",
       "      <td>0</td>\n",
       "      <td>1</td>\n",
       "      <td>1</td>\n",
       "      <td>...</td>\n",
       "      <td>1</td>\n",
       "      <td>53.85</td>\n",
       "      <td>108.15</td>\n",
       "      <td>1</td>\n",
       "      <td>False</td>\n",
       "      <td>False</td>\n",
       "      <td>False</td>\n",
       "      <td>False</td>\n",
       "      <td>False</td>\n",
       "      <td>True</td>\n",
       "    </tr>\n",
       "    <tr>\n",
       "      <th>3</th>\n",
       "      <td>7795-CFOCW</td>\n",
       "      <td>1</td>\n",
       "      <td>0</td>\n",
       "      <td>0</td>\n",
       "      <td>0</td>\n",
       "      <td>45</td>\n",
       "      <td>0</td>\n",
       "      <td>0</td>\n",
       "      <td>1</td>\n",
       "      <td>0</td>\n",
       "      <td>...</td>\n",
       "      <td>0</td>\n",
       "      <td>42.30</td>\n",
       "      <td>1840.75</td>\n",
       "      <td>0</td>\n",
       "      <td>False</td>\n",
       "      <td>False</td>\n",
       "      <td>True</td>\n",
       "      <td>False</td>\n",
       "      <td>False</td>\n",
       "      <td>False</td>\n",
       "    </tr>\n",
       "    <tr>\n",
       "      <th>4</th>\n",
       "      <td>9237-HQITU</td>\n",
       "      <td>0</td>\n",
       "      <td>0</td>\n",
       "      <td>0</td>\n",
       "      <td>0</td>\n",
       "      <td>2</td>\n",
       "      <td>1</td>\n",
       "      <td>0</td>\n",
       "      <td>0</td>\n",
       "      <td>0</td>\n",
       "      <td>...</td>\n",
       "      <td>1</td>\n",
       "      <td>70.70</td>\n",
       "      <td>151.65</td>\n",
       "      <td>1</td>\n",
       "      <td>True</td>\n",
       "      <td>False</td>\n",
       "      <td>False</td>\n",
       "      <td>False</td>\n",
       "      <td>False</td>\n",
       "      <td>True</td>\n",
       "    </tr>\n",
       "    <tr>\n",
       "      <th>...</th>\n",
       "      <td>...</td>\n",
       "      <td>...</td>\n",
       "      <td>...</td>\n",
       "      <td>...</td>\n",
       "      <td>...</td>\n",
       "      <td>...</td>\n",
       "      <td>...</td>\n",
       "      <td>...</td>\n",
       "      <td>...</td>\n",
       "      <td>...</td>\n",
       "      <td>...</td>\n",
       "      <td>...</td>\n",
       "      <td>...</td>\n",
       "      <td>...</td>\n",
       "      <td>...</td>\n",
       "      <td>...</td>\n",
       "      <td>...</td>\n",
       "      <td>...</td>\n",
       "      <td>...</td>\n",
       "      <td>...</td>\n",
       "      <td>...</td>\n",
       "    </tr>\n",
       "    <tr>\n",
       "      <th>7038</th>\n",
       "      <td>6840-RESVB</td>\n",
       "      <td>1</td>\n",
       "      <td>0</td>\n",
       "      <td>1</td>\n",
       "      <td>1</td>\n",
       "      <td>24</td>\n",
       "      <td>1</td>\n",
       "      <td>1</td>\n",
       "      <td>1</td>\n",
       "      <td>0</td>\n",
       "      <td>...</td>\n",
       "      <td>1</td>\n",
       "      <td>84.80</td>\n",
       "      <td>1990.50</td>\n",
       "      <td>0</td>\n",
       "      <td>False</td>\n",
       "      <td>False</td>\n",
       "      <td>True</td>\n",
       "      <td>False</td>\n",
       "      <td>False</td>\n",
       "      <td>True</td>\n",
       "    </tr>\n",
       "    <tr>\n",
       "      <th>7039</th>\n",
       "      <td>2234-XADUH</td>\n",
       "      <td>0</td>\n",
       "      <td>0</td>\n",
       "      <td>1</td>\n",
       "      <td>1</td>\n",
       "      <td>72</td>\n",
       "      <td>1</td>\n",
       "      <td>1</td>\n",
       "      <td>0</td>\n",
       "      <td>1</td>\n",
       "      <td>...</td>\n",
       "      <td>1</td>\n",
       "      <td>103.20</td>\n",
       "      <td>7362.90</td>\n",
       "      <td>0</td>\n",
       "      <td>True</td>\n",
       "      <td>False</td>\n",
       "      <td>True</td>\n",
       "      <td>False</td>\n",
       "      <td>True</td>\n",
       "      <td>False</td>\n",
       "    </tr>\n",
       "    <tr>\n",
       "      <th>7040</th>\n",
       "      <td>4801-JZAZL</td>\n",
       "      <td>0</td>\n",
       "      <td>0</td>\n",
       "      <td>1</td>\n",
       "      <td>1</td>\n",
       "      <td>11</td>\n",
       "      <td>0</td>\n",
       "      <td>0</td>\n",
       "      <td>1</td>\n",
       "      <td>0</td>\n",
       "      <td>...</td>\n",
       "      <td>1</td>\n",
       "      <td>29.60</td>\n",
       "      <td>346.45</td>\n",
       "      <td>0</td>\n",
       "      <td>False</td>\n",
       "      <td>False</td>\n",
       "      <td>False</td>\n",
       "      <td>False</td>\n",
       "      <td>False</td>\n",
       "      <td>True</td>\n",
       "    </tr>\n",
       "    <tr>\n",
       "      <th>7041</th>\n",
       "      <td>8361-LTMKD</td>\n",
       "      <td>1</td>\n",
       "      <td>1</td>\n",
       "      <td>1</td>\n",
       "      <td>0</td>\n",
       "      <td>4</td>\n",
       "      <td>1</td>\n",
       "      <td>1</td>\n",
       "      <td>0</td>\n",
       "      <td>0</td>\n",
       "      <td>...</td>\n",
       "      <td>1</td>\n",
       "      <td>74.40</td>\n",
       "      <td>306.60</td>\n",
       "      <td>1</td>\n",
       "      <td>True</td>\n",
       "      <td>False</td>\n",
       "      <td>False</td>\n",
       "      <td>False</td>\n",
       "      <td>False</td>\n",
       "      <td>True</td>\n",
       "    </tr>\n",
       "    <tr>\n",
       "      <th>7042</th>\n",
       "      <td>3186-AJIEK</td>\n",
       "      <td>1</td>\n",
       "      <td>0</td>\n",
       "      <td>0</td>\n",
       "      <td>0</td>\n",
       "      <td>66</td>\n",
       "      <td>1</td>\n",
       "      <td>0</td>\n",
       "      <td>1</td>\n",
       "      <td>0</td>\n",
       "      <td>...</td>\n",
       "      <td>1</td>\n",
       "      <td>105.65</td>\n",
       "      <td>6844.50</td>\n",
       "      <td>0</td>\n",
       "      <td>True</td>\n",
       "      <td>False</td>\n",
       "      <td>False</td>\n",
       "      <td>True</td>\n",
       "      <td>False</td>\n",
       "      <td>False</td>\n",
       "    </tr>\n",
       "  </tbody>\n",
       "</table>\n",
       "<p>7032 rows × 24 columns</p>\n",
       "</div>"
      ],
      "text/plain": [
       "      customerID  Gender  SeniorCitizen  Partner  Dependents  Tenure  \\\n",
       "0     7590-VHVEG       0              0        1           0       1   \n",
       "1     5575-GNVDE       1              0        0           0      34   \n",
       "2     3668-QPYBK       1              0        0           0       2   \n",
       "3     7795-CFOCW       1              0        0           0      45   \n",
       "4     9237-HQITU       0              0        0           0       2   \n",
       "...          ...     ...            ...      ...         ...     ...   \n",
       "7038  6840-RESVB       1              0        1           1      24   \n",
       "7039  2234-XADUH       0              0        1           1      72   \n",
       "7040  4801-JZAZL       0              0        1           1      11   \n",
       "7041  8361-LTMKD       1              1        1           0       4   \n",
       "7042  3186-AJIEK       1              0        0           0      66   \n",
       "\n",
       "      PhoneService  MultipleLines  OnlineSecurity  OnlineBackup  ...  \\\n",
       "0                0              0               0             1  ...   \n",
       "1                1              0               1             0  ...   \n",
       "2                1              0               1             1  ...   \n",
       "3                0              0               1             0  ...   \n",
       "4                1              0               0             0  ...   \n",
       "...            ...            ...             ...           ...  ...   \n",
       "7038             1              1               1             0  ...   \n",
       "7039             1              1               0             1  ...   \n",
       "7040             0              0               1             0  ...   \n",
       "7041             1              1               0             0  ...   \n",
       "7042             1              0               1             0  ...   \n",
       "\n",
       "      PaperlessBilling  MonthlyCharges  TotalCharges  Churn  \\\n",
       "0                    1           29.85         29.85      0   \n",
       "1                    0           56.95       1889.50      0   \n",
       "2                    1           53.85        108.15      1   \n",
       "3                    0           42.30       1840.75      0   \n",
       "4                    1           70.70        151.65      1   \n",
       "...                ...             ...           ...    ...   \n",
       "7038                 1           84.80       1990.50      0   \n",
       "7039                 1          103.20       7362.90      0   \n",
       "7040                 1           29.60        346.45      0   \n",
       "7041                 1           74.40        306.60      1   \n",
       "7042                 1          105.65       6844.50      0   \n",
       "\n",
       "      InternetService_Fiber optic  InternetService_No  Contract_One year  \\\n",
       "0                           False               False              False   \n",
       "1                           False               False               True   \n",
       "2                           False               False              False   \n",
       "3                           False               False               True   \n",
       "4                            True               False              False   \n",
       "...                           ...                 ...                ...   \n",
       "7038                        False               False               True   \n",
       "7039                         True               False               True   \n",
       "7040                        False               False              False   \n",
       "7041                         True               False              False   \n",
       "7042                         True               False              False   \n",
       "\n",
       "      Contract_Two year  PaymentMethod_Credit card (automatic)  \\\n",
       "0                 False                                  False   \n",
       "1                 False                                  False   \n",
       "2                 False                                  False   \n",
       "3                 False                                  False   \n",
       "4                 False                                  False   \n",
       "...                 ...                                    ...   \n",
       "7038              False                                  False   \n",
       "7039              False                                   True   \n",
       "7040              False                                  False   \n",
       "7041              False                                  False   \n",
       "7042               True                                  False   \n",
       "\n",
       "      PaymentMethod_Manual  \n",
       "0                     True  \n",
       "1                     True  \n",
       "2                     True  \n",
       "3                    False  \n",
       "4                     True  \n",
       "...                    ...  \n",
       "7038                  True  \n",
       "7039                 False  \n",
       "7040                  True  \n",
       "7041                  True  \n",
       "7042                 False  \n",
       "\n",
       "[7032 rows x 24 columns]"
      ]
     },
     "execution_count": 441,
     "metadata": {},
     "output_type": "execute_result"
    }
   ],
   "source": [
    "df"
   ]
  },
  {
   "cell_type": "code",
   "execution_count": 442,
   "metadata": {},
   "outputs": [],
   "source": [
    "features = [ 'Gender'          \n",
    ",'SeniorCitizen'   \n",
    ",'Partner'         \n",
    ",'Dependents'      \n",
    ",'Tenure'          \n",
    ",'PhoneService'    \n",
    ",'MultipleLines'   \n",
    ",'OnlineSecurity'  \n",
    ",'OnlineBackup'    \n",
    ",'DeviceProtection'\n",
    ",'TechSupport'     \n",
    ",'StreamingTV'     \n",
    ",'StreamingMovies' \n",
    ",'PaperlessBilling'\n",
    ",'MonthlyCharges'  \n",
    ",'TotalCharges'\n",
    "] + [col for col in df.columns if 'InternetService_' in col] + [col for col in df.columns if 'Contract_' in col] + [col for col in df.columns if 'PaymentMethod_' in col]"
   ]
  },
  {
   "cell_type": "markdown",
   "metadata": {},
   "source": [
    "A coluna customerID não é utilizada aqui por não ter relação com o comportamento do usuário."
   ]
  },
  {
   "cell_type": "code",
   "execution_count": 443,
   "metadata": {},
   "outputs": [],
   "source": [
    "x = df[features]\n",
    "y = df['Churn']"
   ]
  },
  {
   "cell_type": "markdown",
   "metadata": {},
   "source": [
    "Definindo a Variável de Interesse"
   ]
  },
  {
   "cell_type": "code",
   "execution_count": 444,
   "metadata": {},
   "outputs": [],
   "source": [
    "X_train, X_test, y_train, y_test = train_test_split(x, y, test_size=0.2, random_state=42)"
   ]
  },
  {
   "cell_type": "markdown",
   "metadata": {},
   "source": [
    "Separando dados de teste e treino"
   ]
  },
  {
   "cell_type": "code",
   "execution_count": 445,
   "metadata": {},
   "outputs": [],
   "source": [
    "scaler = StandardScaler()\n",
    "X_train = scaler.fit_transform(X_train)\n",
    "X_test = scaler.transform(X_test)"
   ]
  },
  {
   "cell_type": "markdown",
   "metadata": {},
   "source": [
    "Realizando a normalização das características"
   ]
  },
  {
   "cell_type": "code",
   "execution_count": 446,
   "metadata": {},
   "outputs": [
    {
     "data": {
      "text/plain": [
       "(array([[-1.01378388, -0.43758982, -0.9624811 , -0.65368396,  0.43467403,\n",
       "         -3.04070742, -0.84554067, -0.63517172, -0.7281455 ,  1.38474948,\n",
       "         -0.63875661,  1.26181056,  1.2472596 ,  0.83139683, -0.51862031,\n",
       "         -0.08790784, -0.88544634, -0.52984687, -0.51827235, -0.5611299 ,\n",
       "         -0.52764485, -1.14831681],\n",
       "        [ 0.98640353, -0.43758982, -0.9624811 , -0.65368396, -1.19565249,\n",
       "          0.32887084, -0.84554067, -0.63517172, -0.7281455 , -0.72215228,\n",
       "         -0.63875661,  1.26181056, -0.80175771, -1.20279506, -0.3744434 ,\n",
       "         -0.92128463, -0.88544634, -0.52984687, -0.51827235, -0.5611299 ,\n",
       "          1.89521417, -1.14831681],\n",
       "        [-1.01378388, -0.43758982,  1.03898144, -0.65368396,  0.92377199,\n",
       "          0.32887084,  1.18267522, -0.63517172, -0.7281455 ,  1.38474948,\n",
       "         -0.63875661, -0.79251199, -0.80175771,  0.83139683,  0.43261589,\n",
       "          0.96378055,  1.12937391, -0.52984687, -0.51827235, -0.5611299 ,\n",
       "         -0.52764485,  0.87083982],\n",
       "        [ 0.98640353, -0.43758982,  1.03898144,  1.52979125,  0.51619036,\n",
       "          0.32887084, -0.84554067,  1.5743774 , -0.7281455 , -0.72215228,\n",
       "          1.56554152, -0.79251199, -0.80175771, -1.20279506, -0.33301325,\n",
       "          0.12291993, -0.88544634, -0.52984687, -0.51827235,  1.78211856,\n",
       "         -0.52764485, -1.14831681],\n",
       "        [-1.01378388, -0.43758982,  1.03898144,  1.52979125,  0.92377199,\n",
       "          0.32887084,  1.18267522,  1.5743774 , -0.7281455 , -0.72215228,\n",
       "         -0.63875661,  1.26181056,  1.2472596 , -1.20279506,  1.19990224,\n",
       "          1.40108812,  1.12937391, -0.52984687,  1.92948747, -0.5611299 ,\n",
       "         -0.52764485,  0.87083982]]),\n",
       " array([[ 0.98640353,  2.28524509,  1.03898144, -0.65368396,  1.16832097,\n",
       "          0.32887084,  1.18267522, -0.63517172, -0.7281455 , -0.72215228,\n",
       "         -0.63875661, -0.79251199, -0.80175771, -1.20279506, -1.31573637,\n",
       "         -0.34154137, -0.88544634,  1.88733775, -0.51827235,  1.78211856,\n",
       "         -0.52764485, -1.14831681],\n",
       "        [-1.01378388, -0.43758982, -0.9624811 , -0.65368396, -0.54352188,\n",
       "          0.32887084,  1.18267522, -0.63517172, -0.7281455 , -0.72215228,\n",
       "         -0.63875661, -0.79251199, -0.80175771, -1.20279506, -1.32567961,\n",
       "         -0.79891621, -0.88544634,  1.88733775, -0.51827235, -0.5611299 ,\n",
       "         -0.52764485, -1.14831681],\n",
       "        [ 0.98640353, -0.43758982,  1.03898144, -0.65368396, -0.78807086,\n",
       "          0.32887084,  1.18267522, -0.63517172, -0.7281455 ,  1.38474948,\n",
       "         -0.63875661,  1.26181056,  1.2472596 ,  0.83139683,  1.2446468 ,\n",
       "         -0.40456894,  1.12937391, -0.52984687, -0.51827235, -0.5611299 ,\n",
       "          1.89521417, -1.14831681],\n",
       "        [ 0.98640353, -0.43758982,  1.03898144, -0.65368396,  0.19012506,\n",
       "          0.32887084,  1.18267522,  1.5743774 , -0.7281455 , -0.72215228,\n",
       "         -0.63875661, -0.79251199, -0.80175771,  0.83139683, -0.3197556 ,\n",
       "         -0.10797511, -0.88544634, -0.52984687, -0.51827235, -0.5611299 ,\n",
       "         -0.52764485,  0.87083982],\n",
       "        [-1.01378388, -0.43758982, -0.9624811 , -0.65368396, -1.073378  ,\n",
       "         -3.04070742, -0.84554067,  1.5743774 , -0.7281455 , -0.72215228,\n",
       "         -0.63875661, -0.79251199, -0.80175771, -1.20279506, -1.16824504,\n",
       "         -0.93331616, -0.88544634, -0.52984687, -0.51827235, -0.5611299 ,\n",
       "         -0.52764485, -1.14831681]]))"
      ]
     },
     "execution_count": 446,
     "metadata": {},
     "output_type": "execute_result"
    }
   ],
   "source": [
    "X_train[:5], X_test[:5]"
   ]
  },
  {
   "cell_type": "markdown",
   "metadata": {},
   "source": [
    "## Algirítmo 1 - Random Forest"
   ]
  },
  {
   "cell_type": "code",
   "execution_count": 447,
   "metadata": {},
   "outputs": [],
   "source": [
    "model = RandomForestClassifier(n_estimators=2000, random_state=42)\n",
    "model.fit(X_train, y_train)\n",
    "\n",
    "y_pred = model.predict(X_test)\n",
    "conf_matrix = confusion_matrix(y_test, y_pred)\n",
    "clf_report = classification_report(y_test, y_pred)\n",
    "accuracy = accuracy_score(y_test, y_pred)"
   ]
  },
  {
   "cell_type": "markdown",
   "metadata": {},
   "source": [
    "n_estimators = representa a quantidade de random trees criadas na random forest, um valor maior obtém maior precisão a custo de maior processamento."
   ]
  },
  {
   "cell_type": "code",
   "execution_count": 448,
   "metadata": {},
   "outputs": [
    {
     "data": {
      "text/plain": [
       "<Axes: >"
      ]
     },
     "execution_count": 448,
     "metadata": {},
     "output_type": "execute_result"
    },
    {
     "data": {
      "image/png": "[encoded data removed]",
      "text/plain": [
       "<Figure size 640x480 with 1 Axes>"
      ]
     },
     "metadata": {},
     "output_type": "display_data"
    }
   ],
   "source": [
    "sns.heatmap(\n",
    "    conf_matrix, \n",
    "    annot=True, \n",
    "    fmt='d', \n",
    "    cbar=False, \n",
    "    cmap='Blues', \n",
    "    xticklabels = [\n",
    "        'False Negative',\n",
    "        'True Positive'],\n",
    "    yticklabels=[\n",
    "        'True Negative',\n",
    "        'False Negative'])"
   ]
  },
  {
   "cell_type": "code",
   "execution_count": 449,
   "metadata": {},
   "outputs": [
    {
     "name": "stdout",
     "output_type": "stream",
     "text": [
      "              precision    recall  f1-score   support\n",
      "\n",
      "           0       0.82      0.90      0.86      1033\n",
      "           1       0.62      0.46      0.53       374\n",
      "\n",
      "    accuracy                           0.78      1407\n",
      "   macro avg       0.72      0.68      0.70      1407\n",
      "weighted avg       0.77      0.78      0.77      1407\n",
      "\n"
     ]
    }
   ],
   "source": [
    "print(clf_report)"
   ]
  },
  {
   "cell_type": "code",
   "execution_count": 450,
   "metadata": {},
   "outputs": [
    {
     "name": "stdout",
     "output_type": "stream",
     "text": [
      "0.783226723525231\n"
     ]
    }
   ],
   "source": [
    "print(accuracy)"
   ]
  },
  {
   "cell_type": "markdown",
   "metadata": {},
   "source": [
    "### Importância das Características"
   ]
  },
  {
   "cell_type": "code",
   "execution_count": 451,
   "metadata": {},
   "outputs": [
    {
     "data": {
      "image/png": "[encoded data removed]",
      "text/plain": [
       "<Figure size 1000x800 with 1 Axes>"
      ]
     },
     "metadata": {},
     "output_type": "display_data"
    }
   ],
   "source": [
    "importances = model.feature_importances_\n",
    "indices = np.argsort(importances)[::-1]\n",
    "names = [features[i] for i in indices]\n",
    "\n",
    "plt.figure(figsize=(10, 8))\n",
    "plt.title(\"Feature Importances\")\n",
    "plt.barh(range(len(indices)), importances[indices], color='b', align='center')\n",
    "plt.yticks(range(len(indices)), names)\n",
    "plt.xlabel('Importância')\n",
    "plt.show()"
   ]
  },
  {
   "cell_type": "markdown",
   "metadata": {},
   "source": [
    "## Algorítmo 2 - Regressão Logística"
   ]
  },
  {
   "cell_type": "code",
   "execution_count": 452,
   "metadata": {},
   "outputs": [],
   "source": [
    "from sklearn.linear_model import LogisticRegression\n",
    "\n",
    "log_reg = LogisticRegression(random_state=42, max_iter=1000)\n",
    "log_reg.fit(X_train, y_train)\n",
    "\n",
    "y_pred_log_req = log_reg.predict(X_test)\n",
    "conf_matrix_log_req = confusion_matrix(y_test, y_pred_log_req)\n",
    "class_report_log_req = classification_report(y_test, y_pred_log_req)\n",
    "accuracy_log_req = accuracy_score(y_test, y_pred_log_req)"
   ]
  },
  {
   "cell_type": "code",
   "execution_count": 453,
   "metadata": {},
   "outputs": [
    {
     "data": {
      "text/plain": [
       "<Axes: >"
      ]
     },
     "execution_count": 453,
     "metadata": {},
     "output_type": "execute_result"
    },
    {
     "data": {
      "image/png": "[encoded data removed]",
      "text/plain": [
       "<Figure size 640x480 with 1 Axes>"
      ]
     },
     "metadata": {},
     "output_type": "display_data"
    }
   ],
   "source": [
    "sns.heatmap(\n",
    "    conf_matrix_log_req, \n",
    "    annot=True, \n",
    "    fmt='d', \n",
    "    cbar=False, \n",
    "    cmap='Blues', \n",
    "    xticklabels = [\n",
    "        'False Negative',\n",
    "        'True Positive'],\n",
    "    yticklabels=[\n",
    "        'True Negative',\n",
    "        'False Negative'])"
   ]
  },
  {
   "cell_type": "code",
   "execution_count": 454,
   "metadata": {},
   "outputs": [
    {
     "name": "stdout",
     "output_type": "stream",
     "text": [
      "              precision    recall  f1-score   support\n",
      "\n",
      "           0       0.84      0.88      0.86      1033\n",
      "           1       0.62      0.52      0.56       374\n",
      "\n",
      "    accuracy                           0.79      1407\n",
      "   macro avg       0.73      0.70      0.71      1407\n",
      "weighted avg       0.78      0.79      0.78      1407\n",
      "\n"
     ]
    }
   ],
   "source": [
    "print(class_report_log_req)"
   ]
  },
  {
   "cell_type": "code",
   "execution_count": 455,
   "metadata": {},
   "outputs": [
    {
     "name": "stdout",
     "output_type": "stream",
     "text": [
      "0.7874911158493249\n"
     ]
    }
   ],
   "source": [
    "print(accuracy_log_req)"
   ]
  },
  {
   "cell_type": "markdown",
   "metadata": {},
   "source": [
    "## Algorítmo 3 - Support Vector Machines (SVM)"
   ]
  },
  {
   "cell_type": "code",
   "execution_count": 456,
   "metadata": {},
   "outputs": [],
   "source": [
    "from sklearn.svm import SVC\n",
    "\n",
    "svm_model = SVC(kernel='linear', random_state=42)\n",
    "svm_model.fit(X_train, y_train)\n",
    "\n",
    "y_pred_svm = svm_model.predict(X_test)\n",
    "\n",
    "conf_matrix_svm = confusion_matrix(y_test, y_pred_svm)\n",
    "class_report_svm = classification_report(y_test, y_pred_svm)\n",
    "accuracy_svm = accuracy_score(y_test, y_pred_svm)"
   ]
  },
  {
   "cell_type": "code",
   "execution_count": 457,
   "metadata": {},
   "outputs": [
    {
     "data": {
      "text/plain": [
       "<Axes: >"
      ]
     },
     "execution_count": 457,
     "metadata": {},
     "output_type": "execute_result"
    },
    {
     "data": {
      "image/png": "[encoded data removed]",
      "text/plain": [
       "<Figure size 640x480 with 1 Axes>"
      ]
     },
     "metadata": {},
     "output_type": "display_data"
    }
   ],
   "source": [
    "sns.heatmap(\n",
    "    conf_matrix_svm, \n",
    "    annot=True, \n",
    "    fmt='d', \n",
    "    cbar=False, \n",
    "    cmap='Blues', \n",
    "    xticklabels = [\n",
    "        'False Negative',\n",
    "        'True Positive'],\n",
    "    yticklabels=[\n",
    "        'True Negative',\n",
    "        'False Negative'])"
   ]
  },
  {
   "cell_type": "code",
   "execution_count": 458,
   "metadata": {},
   "outputs": [
    {
     "name": "stdout",
     "output_type": "stream",
     "text": [
      "              precision    recall  f1-score   support\n",
      "\n",
      "           0       0.84      0.89      0.86      1033\n",
      "           1       0.63      0.52      0.57       374\n",
      "\n",
      "    accuracy                           0.79      1407\n",
      "   macro avg       0.73      0.71      0.72      1407\n",
      "weighted avg       0.78      0.79      0.79      1407\n",
      "\n"
     ]
    }
   ],
   "source": [
    "print(class_report_svm)"
   ]
  },
  {
   "cell_type": "code",
   "execution_count": 459,
   "metadata": {},
   "outputs": [
    {
     "data": {
      "text/plain": [
       "0.7917555081734187"
      ]
     },
     "execution_count": 459,
     "metadata": {},
     "output_type": "execute_result"
    }
   ],
   "source": [
    "accuracy_svm"
   ]
  },
  {
   "cell_type": "markdown",
   "metadata": {},
   "source": [
    "## Algorítmo 4 - K-Nearest Neighbors (KNN)"
   ]
  },
  {
   "cell_type": "markdown",
   "metadata": {},
   "source": [
    "KNN"
   ]
  },
  {
   "cell_type": "code",
   "execution_count": 460,
   "metadata": {},
   "outputs": [],
   "source": [
    "from sklearn.neighbors import KNeighborsClassifier\n",
    "\n",
    "knn_model = KNeighborsClassifier(n_neighbors=5)\n",
    "knn_model.fit(X_train, y_train)\n",
    "\n",
    "y_pred_knn = knn_model.predict(X_test)\n",
    "\n",
    "conf_matrix_knn = confusion_matrix(y_test, y_pred_knn)\n",
    "class_report_knn = classification_report(y_test, y_pred_knn)\n",
    "accuracy_knn = accuracy_score(y_test, y_pred_knn)\n"
   ]
  },
  {
   "cell_type": "code",
   "execution_count": 461,
   "metadata": {},
   "outputs": [
    {
     "data": {
      "text/plain": [
       "<Axes: >"
      ]
     },
     "execution_count": 461,
     "metadata": {},
     "output_type": "execute_result"
    },
    {
     "data": {
      "image/png": "[encoded data removed]",
      "text/plain": [
       "<Figure size 640x480 with 1 Axes>"
      ]
     },
     "metadata": {},
     "output_type": "display_data"
    }
   ],
   "source": [
    "sns.heatmap(\n",
    "    conf_matrix_knn, \n",
    "    annot=True, \n",
    "    fmt='d', \n",
    "    cbar=False, \n",
    "    cmap='Blues', \n",
    "    xticklabels = [\n",
    "        'False Negative',\n",
    "        'True Positive'],\n",
    "    yticklabels=[\n",
    "        'True Negative',\n",
    "        'False Negative'])"
   ]
  },
  {
   "cell_type": "code",
   "execution_count": 462,
   "metadata": {},
   "outputs": [
    {
     "name": "stdout",
     "output_type": "stream",
     "text": [
      "              precision    recall  f1-score   support\n",
      "\n",
      "           0       0.83      0.85      0.84      1033\n",
      "           1       0.56      0.51      0.54       374\n",
      "\n",
      "    accuracy                           0.76      1407\n",
      "   macro avg       0.70      0.68      0.69      1407\n",
      "weighted avg       0.76      0.76      0.76      1407\n",
      "\n"
     ]
    }
   ],
   "source": [
    "print(class_report_knn)"
   ]
  },
  {
   "cell_type": "code",
   "execution_count": 463,
   "metadata": {},
   "outputs": [
    {
     "data": {
      "text/plain": [
       "0.7640369580668088"
      ]
     },
     "execution_count": 463,
     "metadata": {},
     "output_type": "execute_result"
    }
   ],
   "source": [
    "accuracy_knn"
   ]
  },
  {
   "cell_type": "markdown",
   "metadata": {},
   "source": [
    "## Algorítmo 5 - Gradient Boosting Classifier"
   ]
  },
  {
   "cell_type": "code",
   "execution_count": 464,
   "metadata": {},
   "outputs": [],
   "source": [
    "from sklearn.ensemble import GradientBoostingClassifier\n",
    "\n",
    "gb_model = GradientBoostingClassifier(n_estimators=100, random_state=42)\n",
    "gb_model.fit(X_train, y_train)\n",
    "\n",
    "y_pred_gb = gb_model.predict(X_test)\n",
    "\n",
    "conf_matrix_gb = confusion_matrix(y_test, y_pred_gb)\n",
    "class_report_gb = classification_report(y_test, y_pred_gb)\n",
    "accuracy_gb = accuracy_score(y_test, y_pred_gb)"
   ]
  },
  {
   "cell_type": "code",
   "execution_count": 465,
   "metadata": {},
   "outputs": [
    {
     "data": {
      "text/plain": [
       "<Axes: >"
      ]
     },
     "execution_count": 465,
     "metadata": {},
     "output_type": "execute_result"
    },
    {
     "data": {
      "image/png": "[encoded data removed]",
      "text/plain": [
       "<Figure size 640x480 with 1 Axes>"
      ]
     },
     "metadata": {},
     "output_type": "display_data"
    }
   ],
   "source": [
    "sns.heatmap(\n",
    "    conf_matrix_gb, \n",
    "    annot=True, \n",
    "    fmt='d', \n",
    "    cbar=False, \n",
    "    cmap='Blues', \n",
    "    xticklabels = [\n",
    "        'False Negative',\n",
    "        'True Positive'],\n",
    "    yticklabels=[\n",
    "        'True Negative',\n",
    "        'False Negative'])"
   ]
  },
  {
   "cell_type": "code",
   "execution_count": 466,
   "metadata": {},
   "outputs": [
    {
     "name": "stdout",
     "output_type": "stream",
     "text": [
      "              precision    recall  f1-score   support\n",
      "\n",
      "           0       0.83      0.91      0.87      1033\n",
      "           1       0.65      0.48      0.55       374\n",
      "\n",
      "    accuracy                           0.79      1407\n",
      "   macro avg       0.74      0.69      0.71      1407\n",
      "weighted avg       0.78      0.79      0.78      1407\n",
      "\n"
     ]
    }
   ],
   "source": [
    "print(class_report_gb)"
   ]
  },
  {
   "cell_type": "code",
   "execution_count": 467,
   "metadata": {},
   "outputs": [
    {
     "data": {
      "text/plain": [
       "0.7931769722814499"
      ]
     },
     "execution_count": 467,
     "metadata": {},
     "output_type": "execute_result"
    }
   ],
   "source": [
    "accuracy_gb"
   ]
  },
  {
   "cell_type": "markdown",
   "metadata": {},
   "source": [
    "# Feature Engineering"
   ]
  },
  {
   "cell_type": "markdown",
   "metadata": {},
   "source": [
    "Agora realizarei a análise com os algorítmos de maior performance: SVM e Gradient Boosting, aplicando a técnica de Engenharia de Características"
   ]
  },
  {
   "cell_type": "code",
   "execution_count": 468,
   "metadata": {},
   "outputs": [],
   "source": [
    "df['AverageMonthlyBill'] = df['TotalCharges'] / df['Tenure']\n",
    "df['ActiveServices'] = df['PhoneService'] + df['OnlineSecurity'] + df['OnlineBackup'] + df['DeviceProtection'] + df['TechSupport'] + df['StreamingTV'] + df['StreamingMovies']\n",
    "df['MonthlyBillPerService'] = df['AverageMonthlyBill'] * df['ActiveServices']"
   ]
  },
  {
   "cell_type": "code",
   "execution_count": 471,
   "metadata": {},
   "outputs": [],
   "source": [
    "features = [ 'Gender'          \n",
    ",'SeniorCitizen'   \n",
    ",'Partner'         \n",
    ",'Dependents'      \n",
    ",'Tenure'          \n",
    ",'PhoneService'    \n",
    ",'MultipleLines'   \n",
    ",'OnlineSecurity'  \n",
    ",'OnlineBackup'    \n",
    ",'DeviceProtection'\n",
    ",'TechSupport'     \n",
    ",'StreamingTV'     \n",
    ",'StreamingMovies' \n",
    ",'PaperlessBilling'\n",
    ",'AverageMonthlyBill'\n",
    ",'ActiveServices'\n",
    ",'MonthlyCharges'  \n",
    ",'TotalCharges'\n",
    ",'MonthlyBillPerService'\n",
    "] + [col for col in df.columns if 'InternetService_' in col] + [col for col in df.columns if 'Contract_' in col] + [col for col in df.columns if 'PaymentMethod_' in col]"
   ]
  },
  {
   "cell_type": "code",
   "execution_count": 472,
   "metadata": {},
   "outputs": [],
   "source": [
    "x = df[features]\n",
    "y = df['Churn']"
   ]
  },
  {
   "cell_type": "code",
   "execution_count": 473,
   "metadata": {},
   "outputs": [],
   "source": [
    "X_train, X_test, y_train, y_test = train_test_split(x, y, test_size=0.2, random_state=42)"
   ]
  },
  {
   "cell_type": "code",
   "execution_count": 474,
   "metadata": {},
   "outputs": [],
   "source": [
    "scaler = StandardScaler()\n",
    "X_train = scaler.fit_transform(X_train)\n",
    "X_test = scaler.transform(X_test)"
   ]
  },
  {
   "cell_type": "code",
   "execution_count": 475,
   "metadata": {},
   "outputs": [
    {
     "data": {
      "text/plain": [
       "(array([[-1.01378388, -0.43758982, -0.9624811 , -0.65368396,  0.43467403,\n",
       "         -3.04070742, -0.84554067, -0.63517172, -0.7281455 ,  1.38474948,\n",
       "         -0.63875661,  1.26181056,  1.2472596 ,  0.83139683, -0.54250021,\n",
       "          0.02933229, -0.51862031, -0.08790784, -0.43077923, -0.88544634,\n",
       "         -0.52984687, -0.51827235, -0.5611299 , -0.52764485, -1.14831681],\n",
       "        [ 0.98640353, -0.43758982, -0.9624811 , -0.65368396, -1.19565249,\n",
       "          0.32887084, -0.84554067, -0.63517172, -0.7281455 , -0.72215228,\n",
       "         -0.63875661,  1.26181056, -0.80175771, -1.20279506, -0.05949769,\n",
       "         -0.5134116 , -0.3744434 , -0.92128463, -0.52350168, -0.88544634,\n",
       "         -0.52984687, -0.51827235, -0.5611299 ,  1.89521417, -1.14831681],\n",
       "        [-1.01378388, -0.43758982,  1.03898144, -0.65368396,  0.92377199,\n",
       "          0.32887084,  1.18267522, -0.63517172, -0.7281455 ,  1.38474948,\n",
       "         -0.63875661, -0.79251199, -0.80175771,  0.83139683,  0.54051881,\n",
       "         -0.5134116 ,  0.43261589,  0.96378055, -0.34675795,  1.12937391,\n",
       "         -0.52984687, -0.51827235, -0.5611299 , -0.52764485,  0.87083982],\n",
       "        [ 0.98640353, -0.43758982,  1.03898144,  1.52979125,  0.51619036,\n",
       "          0.32887084, -0.84554067,  1.5743774 , -0.7281455 , -0.72215228,\n",
       "          1.56554152, -0.79251199, -0.80175771, -1.20279506, -0.26276435,\n",
       "          0.02933229, -0.33301325,  0.12291993, -0.30717873, -0.88544634,\n",
       "         -0.52984687, -0.51827235,  1.78211856, -0.52764485, -1.14831681],\n",
       "        [-1.01378388, -0.43758982,  1.03898144,  1.52979125,  0.92377199,\n",
       "          0.32887084,  1.18267522,  1.5743774 , -0.7281455 , -0.72215228,\n",
       "         -0.63875661,  1.26181056,  1.2472596 , -1.20279506,  1.13560851,\n",
       "          0.57207618,  1.19990224,  1.40108812,  0.79284223,  1.12937391,\n",
       "         -0.52984687,  1.92948747, -0.5611299 , -0.52764485,  0.87083982]]),\n",
       " array([[ 0.98640353,  2.28524509,  1.03898144, -0.65368396,  1.16832097,\n",
       "          0.32887084,  1.18267522, -0.63517172, -0.7281455 , -0.72215228,\n",
       "         -0.63875661, -0.79251199, -0.80175771, -1.20279506, -1.32451807,\n",
       "         -1.05615549, -1.31573637, -0.34154137, -1.01595266, -0.88544634,\n",
       "          1.88733775, -0.51827235,  1.78211856, -0.52764485, -1.14831681],\n",
       "        [-1.01378388, -0.43758982, -0.9624811 , -0.65368396, -0.54352188,\n",
       "          0.32887084,  1.18267522, -0.63517172, -0.7281455 , -0.72215228,\n",
       "         -0.63875661, -0.79251199, -0.80175771, -1.20279506, -1.32783687,\n",
       "         -1.05615549, -1.32567961, -0.79891621, -1.01644146, -0.88544634,\n",
       "          1.88733775, -0.51827235, -0.5611299 , -0.52764485, -1.14831681],\n",
       "        [ 0.98640353, -0.43758982,  1.03898144, -0.65368396, -0.78807086,\n",
       "          0.32887084,  1.18267522, -0.63517172, -0.7281455 ,  1.38474948,\n",
       "         -0.63875661,  1.26181056,  1.2472596 ,  0.83139683,  1.31646687,\n",
       "          0.57207618,  1.2446468 , -0.40456894,  0.89939123,  1.12937391,\n",
       "         -0.52984687, -0.51827235, -0.5611299 ,  1.89521417, -1.14831681],\n",
       "        [ 0.98640353, -0.43758982,  1.03898144, -0.65368396,  0.19012506,\n",
       "          0.32887084,  1.18267522,  1.5743774 , -0.7281455 , -0.72215228,\n",
       "         -0.63875661, -0.79251199, -0.80175771,  0.83139683, -0.32435306,\n",
       "         -0.5134116 , -0.3197556 , -0.10797511, -0.60151875, -0.88544634,\n",
       "         -0.52984687, -0.51827235, -0.5611299 , -0.52764485,  0.87083982],\n",
       "        [-1.01378388, -0.43758982, -0.9624811 , -0.65368396, -1.073378  ,\n",
       "         -3.04070742, -0.84554067,  1.5743774 , -0.7281455 , -0.72215228,\n",
       "         -0.63875661, -0.79251199, -0.80175771, -1.20279506, -1.24886098,\n",
       "         -1.05615549, -1.16824504, -0.93331616, -1.0048097 , -0.88544634,\n",
       "         -0.52984687, -0.51827235, -0.5611299 , -0.52764485, -1.14831681]]))"
      ]
     },
     "execution_count": 475,
     "metadata": {},
     "output_type": "execute_result"
    }
   ],
   "source": [
    "X_train[:5], X_test[:5]"
   ]
  },
  {
   "cell_type": "markdown",
   "metadata": {},
   "source": [
    "### Support Vector Machines (SVM)"
   ]
  },
  {
   "cell_type": "code",
   "execution_count": 476,
   "metadata": {},
   "outputs": [],
   "source": [
    "svm_model_fe = SVC(kernel='linear', random_state=42)\n",
    "svm_model_fe.fit(X_train, y_train)\n",
    "\n",
    "y_pred_svm_fe = svm_model_fe.predict(X_test)\n",
    "\n",
    "conf_matrix_svm_fe = confusion_matrix(y_test, y_pred_svm_fe)\n",
    "class_report_svm_fe = classification_report(y_test, y_pred_svm_fe)\n",
    "accuracy_svm_fe = accuracy_score(y_test, y_pred_svm_fe)"
   ]
  },
  {
   "cell_type": "code",
   "execution_count": 477,
   "metadata": {},
   "outputs": [
    {
     "data": {
      "text/plain": [
       "<Axes: >"
      ]
     },
     "execution_count": 477,
     "metadata": {},
     "output_type": "execute_result"
    },
    {
     "data": {
      "image/png": "[encoded data removed]",
      "text/plain": [
       "<Figure size 640x480 with 1 Axes>"
      ]
     },
     "metadata": {},
     "output_type": "display_data"
    }
   ],
   "source": [
    "sns.heatmap(\n",
    "    conf_matrix_svm_fe, \n",
    "    annot=True, \n",
    "    fmt='d', \n",
    "    cbar=False, \n",
    "    cmap='Blues', \n",
    "    xticklabels = [\n",
    "        'False Negative',\n",
    "        'True Positive'],\n",
    "    yticklabels=[\n",
    "        'True Negative',\n",
    "        'False Negative'])"
   ]
  },
  {
   "cell_type": "code",
   "execution_count": 478,
   "metadata": {},
   "outputs": [
    {
     "name": "stdout",
     "output_type": "stream",
     "text": [
      "              precision    recall  f1-score   support\n",
      "\n",
      "           0       0.84      0.89      0.86      1033\n",
      "           1       0.64      0.52      0.57       374\n",
      "\n",
      "    accuracy                           0.79      1407\n",
      "   macro avg       0.74      0.71      0.72      1407\n",
      "weighted avg       0.78      0.79      0.79      1407\n",
      "\n"
     ]
    }
   ],
   "source": [
    "print(class_report_svm_fe)"
   ]
  },
  {
   "cell_type": "code",
   "execution_count": 479,
   "metadata": {},
   "outputs": [
    {
     "data": {
      "text/plain": [
       "0.7938877043354655"
      ]
     },
     "execution_count": 479,
     "metadata": {},
     "output_type": "execute_result"
    }
   ],
   "source": [
    "accuracy_svm_fe"
   ]
  },
  {
   "cell_type": "markdown",
   "metadata": {},
   "source": [
    "## Gradient Boosting"
   ]
  },
  {
   "cell_type": "code",
   "execution_count": 480,
   "metadata": {},
   "outputs": [],
   "source": [
    "gb_model_fe = GradientBoostingClassifier(n_estimators=100, random_state=42)\n",
    "gb_model_fe.fit(X_train, y_train)\n",
    "\n",
    "y_pred_gb_fe = gb_model_fe.predict(X_test)\n",
    "\n",
    "conf_matrix_gb_fe = confusion_matrix(y_test, y_pred_gb_fe)\n",
    "class_report_gb_fe = classification_report(y_test, y_pred_gb_fe)\n",
    "accuracy_gb_fe = accuracy_score(y_test, y_pred_gb_fe)"
   ]
  },
  {
   "cell_type": "code",
   "execution_count": 481,
   "metadata": {},
   "outputs": [
    {
     "data": {
      "text/plain": [
       "<Axes: >"
      ]
     },
     "execution_count": 481,
     "metadata": {},
     "output_type": "execute_result"
    },
    {
     "data": {
      "image/png": "[encoded data removed]",
      "text/plain": [
       "<Figure size 640x480 with 1 Axes>"
      ]
     },
     "metadata": {},
     "output_type": "display_data"
    }
   ],
   "source": [
    "sns.heatmap(\n",
    "    conf_matrix_gb_fe, \n",
    "    annot=True, \n",
    "    fmt='d', \n",
    "    cbar=False, \n",
    "    cmap='Blues', \n",
    "    xticklabels = [\n",
    "        'False Negative',\n",
    "        'True Positive'],\n",
    "    yticklabels=[\n",
    "        'True Negative',\n",
    "        'False Negative'])"
   ]
  },
  {
   "cell_type": "code",
   "execution_count": 482,
   "metadata": {},
   "outputs": [
    {
     "name": "stdout",
     "output_type": "stream",
     "text": [
      "              precision    recall  f1-score   support\n",
      "\n",
      "           0       0.83      0.90      0.87      1033\n",
      "           1       0.65      0.50      0.56       374\n",
      "\n",
      "    accuracy                           0.79      1407\n",
      "   macro avg       0.74      0.70      0.71      1407\n",
      "weighted avg       0.78      0.79      0.79      1407\n",
      "\n"
     ]
    }
   ],
   "source": [
    "print(class_report_gb_fe)"
   ]
  },
  {
   "cell_type": "code",
   "execution_count": 483,
   "metadata": {},
   "outputs": [
    {
     "data": {
      "text/plain": [
       "0.7945984363894811"
      ]
     },
     "execution_count": 483,
     "metadata": {},
     "output_type": "execute_result"
    }
   ],
   "source": [
    "accuracy_gb_fe"
   ]
  },
  {
   "cell_type": "markdown",
   "metadata": {},
   "source": [
    "## Resumo dos resultados (Accuracy)"
   ]
  },
  {
   "cell_type": "code",
   "execution_count": 484,
   "metadata": {},
   "outputs": [
    {
     "name": "stdout",
     "output_type": "stream",
     "text": [
      "                Algorítmo  Accuracy\n",
      "6  Gradient Boosting + FE  0.794598\n",
      "5                SVM + FE  0.793888\n",
      "4       Gradient Boosting  0.793177\n",
      "2                     SVM  0.791756\n",
      "1     Regressão Logística  0.787491\n",
      "0           Random Forest  0.783227\n",
      "3                     KNN  0.764037\n"
     ]
    }
   ],
   "source": [
    "accuracy_values = {\n",
    "    'Algorítmo': ['Random Forest', 'Regressão Logística', 'SVM', 'KNN', 'Gradient Boosting', 'SVM + FE', 'Gradient Boosting + FE'],\n",
    "    'Accuracy': [accuracy, accuracy_log_req, accuracy_svm, accuracy_knn, accuracy_gb, accuracy_svm_fe, accuracy_gb_fe]\n",
    "    }\n",
    "\n",
    "results = pd.DataFrame(accuracy_values)\n",
    "results =results.sort_values(by='Accuracy', ascending=False)\n",
    "print(results)"
   ]
  },
  {
   "cell_type": "code",
   "execution_count": 485,
   "metadata": {},
   "outputs": [
    {
     "data": {
      "image/png": "[encoded data removed]",
      "text/plain": [
       "<Figure size 1000x500 with 1 Axes>"
      ]
     },
     "metadata": {},
     "output_type": "display_data"
    }
   ],
   "source": [
    "results = results.sort_values(by='Accuracy', ascending=True)\n",
    "fig = plt.figure(figsize=(10, 5))\n",
    "sns.lineplot(x='Algorítmo', y='Accuracy', data=results)\n",
    "plt.title('Accuracy dos Algorítmos')\n",
    "plt.show()"
   ]
  },
  {
   "cell_type": "markdown",
   "metadata": {},
   "source": [
    "Apesar dos resultados melhorados com o Feature Engineering, um resultado abaixo de 80% ainda não é tão confiável"
   ]
  }
 ],
 "metadata": {
  "kernelspec": {
   "display_name": "env",
   "language": "python",
   "name": "python3"
  },
  "language_info": {
   "codemirror_mode": {
    "name": "ipython",
    "version": 3
   },
   "file_extension": ".py",
   "mimetype": "text/x-python",
   "name": "python",
   "nbconvert_exporter": "python",
   "pygments_lexer": "ipython3",
   "version": "3.12.3"
  }
 },
 "nbformat": 4,
 "nbformat_minor": 2
}
